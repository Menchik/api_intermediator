{
 "cells": [
  {
   "cell_type": "code",
   "execution_count": 1,
   "metadata": {},
   "outputs": [],
   "source": [
    "from planet_api import planet_mm\n",
    "\n",
    "import os"
   ]
  },
  {
   "cell_type": "code",
   "execution_count": 2,
   "metadata": {},
   "outputs": [],
   "source": [
    "PL_API_KEY = os.environ.get('PL_API_KEY')\n",
    "# PL_API_KEY = \"KEY\""
   ]
  },
  {
   "cell_type": "code",
   "execution_count": 3,
   "metadata": {},
   "outputs": [
    {
     "name": "stdout",
     "output_type": "stream",
     "text": [
      "0 : planet_medres_normalized_analytic_2015-12_2016-05_mosaic\n",
      "1 : planet_medres_normalized_analytic_2016-06_2016-11_mosaic\n",
      "2 : planet_medres_normalized_analytic_2016-12_2017-05_mosaic\n",
      "3 : planet_medres_normalized_analytic_2017-06_2017-11_mosaic\n",
      "4 : planet_medres_normalized_analytic_2017-12_2018-05_mosaic\n",
      "5 : planet_medres_normalized_analytic_2018-06_2018-11_mosaic\n",
      "6 : planet_medres_normalized_analytic_2018-12_2019-05_mosaic\n",
      "7 : planet_medres_normalized_analytic_2019-06_2019-11_mosaic\n",
      "8 : planet_medres_normalized_analytic_2019-12_2020-05_mosaic\n",
      "9 : planet_medres_normalized_analytic_2020-06_2020-08_mosaic\n",
      "10 : planet_medres_normalized_analytic_2020-09_mosaic\n",
      "11 : planet_medres_normalized_analytic_2020-10_mosaic\n",
      "12 : planet_medres_normalized_analytic_2020-11_mosaic\n",
      "13 : planet_medres_normalized_analytic_2020-12_mosaic\n",
      "14 : planet_medres_normalized_analytic_2021-01_mosaic\n",
      "15 : planet_medres_normalized_analytic_2021-02_mosaic\n",
      "16 : planet_medres_normalized_analytic_2021-03_mosaic\n",
      "17 : planet_medres_normalized_analytic_2021-04_mosaic\n",
      "18 : planet_medres_normalized_analytic_2021-05_mosaic\n",
      "19 : planet_medres_normalized_analytic_2021-06_mosaic\n",
      "20 : planet_medres_normalized_analytic_2021-07_mosaic\n",
      "21 : planet_medres_normalized_analytic_2021-08_mosaic\n",
      "22 : planet_medres_normalized_analytic_2021-09_mosaic\n",
      "23 : planet_medres_normalized_analytic_2021-10_mosaic\n",
      "24 : planet_medres_normalized_analytic_2021-11_mosaic\n",
      "25 : planet_medres_normalized_analytic_2021-12_mosaic\n",
      "26 : planet_medres_normalized_analytic_2022-01_mosaic\n",
      "27 : planet_medres_normalized_analytic_2022-02_mosaic\n",
      "28 : planet_medres_normalized_analytic_2022-03_mosaic\n",
      "29 : planet_medres_normalized_analytic_2022-04_mosaic\n",
      "30 : planet_medres_normalized_analytic_2022-05_mosaic\n",
      "31 : planet_medres_normalized_analytic_2022-06_mosaic\n",
      "32 : planet_medres_normalized_analytic_2022-07_mosaic\n",
      "33 : planet_medres_normalized_analytic_2022-08_mosaic\n",
      "34 : planet_medres_normalized_analytic_2022-09_mosaic\n",
      "35 : planet_medres_normalized_analytic_2022-10_mosaic\n",
      "36 : planet_medres_normalized_analytic_2022-11_mosaic\n",
      "37 : planet_medres_normalized_analytic_2022-12_mosaic\n",
      "38 : planet_medres_normalized_analytic_2023-01_mosaic\n",
      "39 : planet_medres_normalized_analytic_2023-02_mosaic\n",
      "40 : planet_medres_normalized_analytic_2023-03_mosaic\n",
      "41 : planet_medres_normalized_analytic_2023-04_mosaic\n",
      "42 : planet_medres_normalized_analytic_2023-05_mosaic\n",
      "43 : planet_medres_normalized_analytic_2023-06_mosaic\n",
      "44 : planet_medres_normalized_analytic_2023-07_mosaic\n",
      "45 : planet_medres_visual_2015-12_2016-05_mosaic\n",
      "46 : planet_medres_visual_2016-06_2016-11_mosaic\n",
      "47 : planet_medres_visual_2016-12_2017-05_mosaic\n",
      "48 : planet_medres_visual_2017-06_2017-11_mosaic\n",
      "49 : planet_medres_visual_2017-12_2018-05_mosaic\n"
     ]
    },
    {
     "data": {
      "text/plain": [
       "['planet_medres_normalized_analytic_2015-12_2016-05_mosaic',\n",
       " 'planet_medres_normalized_analytic_2016-06_2016-11_mosaic',\n",
       " 'planet_medres_normalized_analytic_2016-12_2017-05_mosaic',\n",
       " 'planet_medres_normalized_analytic_2017-06_2017-11_mosaic',\n",
       " 'planet_medres_normalized_analytic_2017-12_2018-05_mosaic',\n",
       " 'planet_medres_normalized_analytic_2018-06_2018-11_mosaic',\n",
       " 'planet_medres_normalized_analytic_2018-12_2019-05_mosaic',\n",
       " 'planet_medres_normalized_analytic_2019-06_2019-11_mosaic',\n",
       " 'planet_medres_normalized_analytic_2019-12_2020-05_mosaic',\n",
       " 'planet_medres_normalized_analytic_2020-06_2020-08_mosaic',\n",
       " 'planet_medres_normalized_analytic_2020-09_mosaic',\n",
       " 'planet_medres_normalized_analytic_2020-10_mosaic',\n",
       " 'planet_medres_normalized_analytic_2020-11_mosaic',\n",
       " 'planet_medres_normalized_analytic_2020-12_mosaic',\n",
       " 'planet_medres_normalized_analytic_2021-01_mosaic',\n",
       " 'planet_medres_normalized_analytic_2021-02_mosaic',\n",
       " 'planet_medres_normalized_analytic_2021-03_mosaic',\n",
       " 'planet_medres_normalized_analytic_2021-04_mosaic',\n",
       " 'planet_medres_normalized_analytic_2021-05_mosaic',\n",
       " 'planet_medres_normalized_analytic_2021-06_mosaic',\n",
       " 'planet_medres_normalized_analytic_2021-07_mosaic',\n",
       " 'planet_medres_normalized_analytic_2021-08_mosaic',\n",
       " 'planet_medres_normalized_analytic_2021-09_mosaic',\n",
       " 'planet_medres_normalized_analytic_2021-10_mosaic',\n",
       " 'planet_medres_normalized_analytic_2021-11_mosaic',\n",
       " 'planet_medres_normalized_analytic_2021-12_mosaic',\n",
       " 'planet_medres_normalized_analytic_2022-01_mosaic',\n",
       " 'planet_medres_normalized_analytic_2022-02_mosaic',\n",
       " 'planet_medres_normalized_analytic_2022-03_mosaic',\n",
       " 'planet_medres_normalized_analytic_2022-04_mosaic',\n",
       " 'planet_medres_normalized_analytic_2022-05_mosaic',\n",
       " 'planet_medres_normalized_analytic_2022-06_mosaic',\n",
       " 'planet_medres_normalized_analytic_2022-07_mosaic',\n",
       " 'planet_medres_normalized_analytic_2022-08_mosaic',\n",
       " 'planet_medres_normalized_analytic_2022-09_mosaic',\n",
       " 'planet_medres_normalized_analytic_2022-10_mosaic',\n",
       " 'planet_medres_normalized_analytic_2022-11_mosaic',\n",
       " 'planet_medres_normalized_analytic_2022-12_mosaic',\n",
       " 'planet_medres_normalized_analytic_2023-01_mosaic',\n",
       " 'planet_medres_normalized_analytic_2023-02_mosaic',\n",
       " 'planet_medres_normalized_analytic_2023-03_mosaic',\n",
       " 'planet_medres_normalized_analytic_2023-04_mosaic',\n",
       " 'planet_medres_normalized_analytic_2023-05_mosaic',\n",
       " 'planet_medres_normalized_analytic_2023-06_mosaic',\n",
       " 'planet_medres_normalized_analytic_2023-07_mosaic',\n",
       " 'planet_medres_visual_2015-12_2016-05_mosaic',\n",
       " 'planet_medres_visual_2016-06_2016-11_mosaic',\n",
       " 'planet_medres_visual_2016-12_2017-05_mosaic',\n",
       " 'planet_medres_visual_2017-06_2017-11_mosaic',\n",
       " 'planet_medres_visual_2017-12_2018-05_mosaic']"
      ]
     },
     "execution_count": 3,
     "metadata": {},
     "output_type": "execute_result"
    }
   ],
   "source": [
    "planet_obj = planet_mm(PL_API_KEY,\n",
    "                       \"placeholder\",\n",
    "                       \"planet_medres_normalized_analytic_2015-12_2016-05_mosaic\")"
   ]
  },
  {
   "cell_type": "code",
   "execution_count": null,
   "metadata": {},
   "outputs": [],
   "source": [
    "planet_obj.list_mosaics()\n",
    "planet_obj.choose_mosaics(10)"
   ]
  },
  {
   "cell_type": "code",
   "execution_count": null,
   "metadata": {},
   "outputs": [],
   "source": [
    "aoi_geometry = {\"type\": \"MultiPolygon\",\n",
    "                \"coordinates\": [ [ [ [ -57, -16 ], [ -53, -16 ], [ -53, -18 ] , [-57, -18], [ -57, -16 ] ] ] ] }"
   ]
  },
  {
   "cell_type": "code",
   "execution_count": null,
   "metadata": {},
   "outputs": [],
   "source": [
    "planet_obj.set_AOI_geometry(aoi_geometry)"
   ]
  },
  {
   "cell_type": "code",
   "execution_count": null,
   "metadata": {},
   "outputs": [],
   "source": [
    "result = planet_obj.get_basemap()"
   ]
  },
  {
   "cell_type": "code",
   "execution_count": null,
   "metadata": {},
   "outputs": [],
   "source": [
    "planet_obj.download_files(num_threads=4, result=result)"
   ]
  },
  {
   "cell_type": "code",
   "execution_count": null,
   "metadata": {},
   "outputs": [],
   "source": [
    "# 'import utils\n",
    "\n",
    "# utils.merge_tifs_in_folder('./downloads')'"
   ]
  },
  {
   "cell_type": "code",
   "execution_count": null,
   "metadata": {},
   "outputs": [],
   "source": []
  }
 ],
 "metadata": {
  "kernelspec": {
   "display_name": "api1",
   "language": "python",
   "name": "python3"
  },
  "language_info": {
   "codemirror_mode": {
    "name": "ipython",
    "version": 3
   },
   "file_extension": ".py",
   "mimetype": "text/x-python",
   "name": "python",
   "nbconvert_exporter": "python",
   "pygments_lexer": "ipython3",
   "version": "3.11.4"
  },
  "orig_nbformat": 4
 },
 "nbformat": 4,
 "nbformat_minor": 2
}
