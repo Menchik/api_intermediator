{
 "cells": [
  {
   "cell_type": "code",
   "execution_count": 1,
   "metadata": {},
   "outputs": [],
   "source": [
    "from planet_api import planet_mm\n",
    "\n",
    "import os"
   ]
  },
  {
   "cell_type": "code",
   "execution_count": 2,
   "metadata": {},
   "outputs": [],
   "source": [
    "PL_API_KEY = os.environ.get('PL_API_KEY')\n",
    "# PL_API_KEY = \"KEY\""
   ]
  },
  {
   "cell_type": "code",
   "execution_count": 3,
   "metadata": {},
   "outputs": [],
   "source": [
    "planet_obj = planet_mm(PL_API_KEY,\n",
    "                       \"placeholder\",\n",
    "                       \"planet_medres_normalized_analytic_2015-12_2016-05_mosaic\")"
   ]
  },
  {
   "cell_type": "code",
   "execution_count": 4,
   "metadata": {},
   "outputs": [],
   "source": [
    "aoi_geometry = { \"type\": \"MultiPolygon\", \"coordinates\": [ [ [ [ -57, -16 ], [ -53, -16 ], [ -53, -18 ] , [-57, -18], [ -57, -16 ] ] ] ] }"
   ]
  },
  {
   "cell_type": "code",
   "execution_count": 5,
   "metadata": {},
   "outputs": [],
   "source": [
    "planet_obj.change_AOI(aoi_geometry)"
   ]
  },
  {
   "cell_type": "code",
   "execution_count": 6,
   "metadata": {},
   "outputs": [
    {
     "name": "stdout",
     "output_type": "stream",
     "text": [
      "Placing order\n",
      "{'_links': {'_self': 'https://api.planet.com/compute/ops/orders/v2/309ea254-7484-4a98-b79f-75666efce4b1'}, 'created_on': '2023-07-26T19:30:09.263Z', 'error_hints': [], 'id': '309ea254-7484-4a98-b79f-75666efce4b1', 'last_message': 'Preparing order', 'last_modified': '2023-07-26T19:30:09.263Z', 'name': 'basemap order with geometry', 'order_type': 'partial', 'products': [{'geometry': {'coordinates': [[[[-57, -16], [-53, -16], [-53, -18], [-57, -18], [-57, -16]]]], 'type': 'MultiPolygon'}, 'mosaic_name': 'planet_medres_normalized_analytic_2015-12_2016-05_mosaic'}], 'source_type': 'basemaps', 'state': 'queued'}\n",
      "Polling\n",
      "queued\n",
      "running\n",
      "running\n",
      "running\n",
      "running\n",
      "running\n",
      "running\n",
      "running\n",
      "running\n",
      "running\n",
      "running\n",
      "running\n",
      "running\n",
      "running\n",
      "running\n",
      "running\n",
      "running\n",
      "running\n",
      "running\n",
      "running\n",
      "running\n",
      "running\n",
      "running\n",
      "running\n",
      "running\n",
      "running\n",
      "running\n",
      "running\n",
      "running\n",
      "running\n",
      "running\n",
      "success\n"
     ]
    }
   ],
   "source": [
    "result = planet_obj.get_basemap()"
   ]
  },
  {
   "cell_type": "code",
   "execution_count": null,
   "metadata": {},
   "outputs": [],
   "source": [
    "result = result.json()\n",
    "links = result['_links']['results']\n",
    "links"
   ]
  },
  {
   "cell_type": "code",
   "execution_count": null,
   "metadata": {},
   "outputs": [],
   "source": [
    "[r['location'] for r in links]"
   ]
  }
 ],
 "metadata": {
  "kernelspec": {
   "display_name": "api1",
   "language": "python",
   "name": "python3"
  },
  "language_info": {
   "codemirror_mode": {
    "name": "ipython",
    "version": 3
   },
   "file_extension": ".py",
   "mimetype": "text/x-python",
   "name": "python",
   "nbconvert_exporter": "python",
   "pygments_lexer": "ipython3",
   "version": "3.11.4"
  },
  "orig_nbformat": 4
 },
 "nbformat": 4,
 "nbformat_minor": 2
}
