{
 "cells": [
  {
   "cell_type": "code",
   "execution_count": null,
   "metadata": {},
   "outputs": [],
   "source": [
    "from src.planet_intemediator import planet_intermediator\n",
    "import os"
   ]
  },
  {
   "cell_type": "code",
   "execution_count": null,
   "metadata": {},
   "outputs": [],
   "source": [
    "'''\n",
    "    Create planet_intermediator object\n",
    "        - auth_key: planetAPI authentication key\n",
    "'''\n",
    "planet = planet_intermediator(auth_key=None)"
   ]
  },
  {
   "cell_type": "code",
   "execution_count": null,
   "metadata": {},
   "outputs": [],
   "source": [
    "'''\n",
    "    Transform .shp file to .geojson\n",
    "        - folder: Source folder location\n",
    "        - export: Destination folder location\n",
    "'''\n",
    "planet.shp2geojson(folder='./pantanal_shp', export='/home/geoia/repos/test/geojson')"
   ]
  },
  {
   "cell_type": "code",
   "execution_count": null,
   "metadata": {},
   "outputs": [],
   "source": [
    "'''\n",
    "    Print bouding box of geometry\n",
    "        - infile: geojson file source\n",
    "'''\n",
    "planet.print_bbox(infile='/home/geoia/repos/test/geojson/Pantanal.geojson')"
   ]
  },
  {
   "cell_type": "code",
   "execution_count": null,
   "metadata": {},
   "outputs": [],
   "source": [
    "'''\n",
    "    Get .csv with all mosaics during a time frame\n",
    "        - infile: geojson file source\n",
    "        - start: Start date in format YYYY-MM-DD\n",
    "        - end: End date in format YYYY-MM-DD\n",
    "        - outfile: Output file location (.csv)\n",
    "'''\n",
    "planet.get_mosaics(infile='/home/geoia/repos/test/geojson/Pantanal.geojson', start=\"2020-01-01\",end=\"2020-12-31\",outfile='/home/geoia/repos/test/mosaics2.csv')"
   ]
  },
  {
   "cell_type": "code",
   "execution_count": null,
   "metadata": {},
   "outputs": [],
   "source": [
    "'''\n",
    "    Download quad GeoTiffs choose from name or idlist\n",
    "        - names: Mosaic name from earlier search or csvfile (Optional - Either names or ids)\n",
    "        - ids: Mosaic ids from earlier search or csvfile (Optional - Either names or ids)\n",
    "        - idlist: Path to .csv file with mosaics\n",
    "        - infile: geojson file source\n",
    "        - coverage: Minimum percentage coverage of quad for it to download (%) (Optional)\n",
    "        - local: Folder path for downloaded images\n",
    "'''\n",
    "planet.download(names=None, ids=None, idlist=\"/home/geoia/repos/test/mosaics.csv\",infile='/home/geoia/repos/test/geojson/Pantanal.geojson',coverage=None,local=\"./downloads\")"
   ]
  },
  {
   "cell_type": "code",
   "execution_count": null,
   "metadata": {},
   "outputs": [],
   "source": [
    "'''\n",
    "    Download quad GeoTiffs using multipart downloader\n",
    "        - names: Mosaic name from earlier search or csvfile (Optional - Either names or ids)\n",
    "        - ids: Mosaic ids from earlier search or csvfile (Optional - Either names or ids)\n",
    "        - idlist: Path to .csv file with mosaics\n",
    "        - infile: geojson file source\n",
    "        - coverage: Minimum percentage coverage of quad for it to download (%) (Optional)\n",
    "        - local: Folder path for downloaded images\n",
    "'''\n",
    "planet.multipart(names=None, ids=None, idlist=\"/home/geoia/repos/test/mosaics.csv\",infile='/home/geoia/repos/test/geojson/Pantanal.geojson',coverage=None,local='./downloads')"
   ]
  }
 ],
 "metadata": {
  "kernelspec": {
   "display_name": "api1",
   "language": "python",
   "name": "python3"
  },
  "language_info": {
   "codemirror_mode": {
    "name": "ipython",
    "version": 3
   },
   "file_extension": ".py",
   "mimetype": "text/x-python",
   "name": "python",
   "nbconvert_exporter": "python",
   "pygments_lexer": "ipython3",
   "version": "3.12.0"
  },
  "orig_nbformat": 4
 },
 "nbformat": 4,
 "nbformat_minor": 2
}
